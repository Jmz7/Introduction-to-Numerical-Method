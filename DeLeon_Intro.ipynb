{
  "nbformat": 4,
  "nbformat_minor": 0,
  "metadata": {
    "colab": {
      "name": "DeLeon_Intro",
      "provenance": [],
      "collapsed_sections": []
    },
    "kernelspec": {
      "name": "python3",
      "display_name": "Python 3"
    },
    "language_info": {
      "name": "python"
    }
  },
  "cells": [
    {
      "cell_type": "markdown",
      "metadata": {
        "id": "e7YWOmzrb4vv"
      },
      "source": [
        "#Introduction to Numerical Method\n",
        "##Demo\n"
      ]
    },
    {
      "cell_type": "code",
      "metadata": {
        "colab": {
          "base_uri": "https://localhost:8080/"
        },
        "id": "RBaxBR-FcKyY",
        "outputId": "78a31255-d5d3-40a2-b9cf-cdfad88ee617"
      },
      "source": [
        "b = \"sally\"\n",
        "b = float(4)\n",
        "print(b)"
      ],
      "execution_count": 2,
      "outputs": [
        {
          "output_type": "stream",
          "text": [
            "4.0\n"
          ],
          "name": "stdout"
        }
      ]
    },
    {
      "cell_type": "code",
      "metadata": {
        "colab": {
          "base_uri": "https://localhost:8080/"
        },
        "id": "NqU4qjHdb6yJ",
        "outputId": "d4638fb0-6c51-494e-ab93-4a66b3036b78"
      },
      "source": [
        "x = 5\n",
        "y = \"John\"\n",
        "print(type(x))\n",
        "print(type(y))"
      ],
      "execution_count": 3,
      "outputs": [
        {
          "output_type": "stream",
          "text": [
            "<class 'int'>\n",
            "<class 'str'>\n"
          ],
          "name": "stdout"
        }
      ]
    },
    {
      "cell_type": "code",
      "metadata": {
        "colab": {
          "base_uri": "https://localhost:8080/"
        },
        "id": "y0GHnQMocZj3",
        "outputId": "03ec6b2e-e507-4494-d09b-e7a070c797b9"
      },
      "source": [
        "x = \"enjoying\"\n",
        "print(\"Python programming is \" + x)"
      ],
      "execution_count": 4,
      "outputs": [
        {
          "output_type": "stream",
          "text": [
            "Python programming is enjoying\n"
          ],
          "name": "stdout"
        }
      ]
    },
    {
      "cell_type": "code",
      "metadata": {
        "colab": {
          "base_uri": "https://localhost:8080/"
        },
        "id": "oYqRdEW1cZut",
        "outputId": "dc5ac410-ebee-49dc-8828-3b8d9aaa9ca7"
      },
      "source": [
        "x =5 \n",
        "y =3\n",
        "compare = x > y\n",
        "compare"
      ],
      "execution_count": 5,
      "outputs": [
        {
          "output_type": "execute_result",
          "data": {
            "text/plain": [
              "True"
            ]
          },
          "metadata": {},
          "execution_count": 5
        }
      ]
    },
    {
      "cell_type": "code",
      "metadata": {
        "colab": {
          "base_uri": "https://localhost:8080/"
        },
        "id": "YSdySBrwcodK",
        "outputId": "599caa42-2e25-474b-f926-b660a8ce0254"
      },
      "source": [
        "x =5 \n",
        "y =3\n",
        "\n",
        "x>y and x<y"
      ],
      "execution_count": 6,
      "outputs": [
        {
          "output_type": "execute_result",
          "data": {
            "text/plain": [
              "False"
            ]
          },
          "metadata": {},
          "execution_count": 6
        }
      ]
    },
    {
      "cell_type": "code",
      "metadata": {
        "colab": {
          "base_uri": "https://localhost:8080/"
        },
        "id": "-owYFnIAc_TF",
        "outputId": "71966e52-21f0-4650-af19-1c1439f3dc8a"
      },
      "source": [
        "x =5 \n",
        "y =3\n",
        "sum = x+y\n",
        "sum\n"
      ],
      "execution_count": 7,
      "outputs": [
        {
          "output_type": "execute_result",
          "data": {
            "text/plain": [
              "8"
            ]
          },
          "metadata": {},
          "execution_count": 7
        }
      ]
    },
    {
      "cell_type": "code",
      "metadata": {
        "colab": {
          "base_uri": "https://localhost:8080/"
        },
        "id": "dnecdiNTc_XI",
        "outputId": "289e34b0-1f52-4e86-af82-e06e82ffad65"
      },
      "source": [
        "a, b, c = 0, -1, 5\n",
        "c%=2\n",
        "c"
      ],
      "execution_count": 8,
      "outputs": [
        {
          "output_type": "execute_result",
          "data": {
            "text/plain": [
              "1"
            ]
          },
          "metadata": {},
          "execution_count": 8
        }
      ]
    },
    {
      "cell_type": "code",
      "metadata": {
        "colab": {
          "base_uri": "https://localhost:8080/"
        },
        "id": "OysLsYhKdQNP",
        "outputId": "e75a0ecf-97a3-4610-e241-1e85e229cbad"
      },
      "source": [
        "x =5 \n",
        "y =3\n",
        "x is y"
      ],
      "execution_count": 9,
      "outputs": [
        {
          "output_type": "execute_result",
          "data": {
            "text/plain": [
              "False"
            ]
          },
          "metadata": {},
          "execution_count": 9
        }
      ]
    }
  ]
}