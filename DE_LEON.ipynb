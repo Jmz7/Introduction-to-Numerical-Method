{
  "nbformat": 4,
  "nbformat_minor": 0,
  "metadata": {
    "colab": {
      "name": "DE_LEON.ipynb",
      "provenance": [],
      "authorship_tag": "ABX9TyP/1MU314cMPJC+dB7YMgWm",
      "include_colab_link": true
    },
    "kernelspec": {
      "name": "python3",
      "display_name": "Python 3"
    },
    "language_info": {
      "name": "python"
    }
  },
  "cells": [
    {
      "cell_type": "markdown",
      "metadata": {
        "id": "view-in-github",
        "colab_type": "text"
      },
      "source": [
        "<a href=\"https://colab.research.google.com/github/Jmz7/Introduction-to-Numerical-Method/blob/main/DE_LEON.ipynb\" target=\"_parent\"><img src=\"https://colab.research.google.com/assets/colab-badge.svg\" alt=\"Open In Colab\"/></a>"
      ]
    },
    {
      "cell_type": "markdown",
      "metadata": {
        "id": "bKvJDSEzhA39"
      },
      "source": [
        "#Introduction to Numerical Method\n",
        "##Demo"
      ]
    },
    {
      "cell_type": "code",
      "metadata": {
        "id": "dC1BYc08iV15",
        "outputId": "c66b6c55-f006-48b4-adc2-740951c2c235",
        "colab": {
          "base_uri": "https://localhost:8080/"
        }
      },
      "source": [
        "b = \"sally\"\n",
        "b = float(4)\n",
        "print(b)"
      ],
      "execution_count": 1,
      "outputs": [
        {
          "output_type": "stream",
          "name": "stdout",
          "text": [
            "4.0\n"
          ]
        }
      ]
    },
    {
      "cell_type": "code",
      "metadata": {
        "id": "W7vD2bU3iWAj"
      },
      "source": [
        "x = 5\n",
        "y = \"John\"\n",
        "print(type(x))\n",
        "print(type(y))"
      ],
      "execution_count": null,
      "outputs": []
    },
    {
      "cell_type": "code",
      "metadata": {
        "id": "-FZdA4v2iWHw",
        "outputId": "34650012-528e-4fd8-95dc-ce5fda8ddf21",
        "colab": {
          "base_uri": "https://localhost:8080/"
        }
      },
      "source": [
        "x = \"enjoying\"\n",
        "print(\"Python programming is \" + x)"
      ],
      "execution_count": 3,
      "outputs": [
        {
          "output_type": "stream",
          "name": "stdout",
          "text": [
            "Python programming is enjoying\n"
          ]
        }
      ]
    },
    {
      "cell_type": "code",
      "metadata": {
        "id": "SPkJ2ObCiWN2",
        "outputId": "787a2d74-ccc4-4868-de00-f7033998e6bc",
        "colab": {
          "base_uri": "https://localhost:8080/"
        }
      },
      "source": [
        "x =5 \n",
        "y =3\n",
        "compare = x > y\n",
        "compare"
      ],
      "execution_count": 4,
      "outputs": [
        {
          "output_type": "execute_result",
          "data": {
            "text/plain": [
              "True"
            ]
          },
          "metadata": {},
          "execution_count": 4
        }
      ]
    },
    {
      "cell_type": "code",
      "metadata": {
        "id": "Atxcob_yiy8B",
        "outputId": "d1c4cad6-a7fb-4e95-a76e-391e5491319c",
        "colab": {
          "base_uri": "https://localhost:8080/"
        }
      },
      "source": [
        "x =5 \n",
        "y =3\n",
        "\n",
        "x>y and x<y"
      ],
      "execution_count": 5,
      "outputs": [
        {
          "output_type": "execute_result",
          "data": {
            "text/plain": [
              "False"
            ]
          },
          "metadata": {},
          "execution_count": 5
        }
      ]
    },
    {
      "cell_type": "code",
      "metadata": {
        "id": "7R4B54Nei3Ef",
        "outputId": "587cb35b-36d3-401b-baf5-0324728a51d1",
        "colab": {
          "base_uri": "https://localhost:8080/"
        }
      },
      "source": [
        "x =5 \n",
        "y =3\n",
        "sum = x+y\n",
        "sum"
      ],
      "execution_count": 6,
      "outputs": [
        {
          "output_type": "execute_result",
          "data": {
            "text/plain": [
              "8"
            ]
          },
          "metadata": {},
          "execution_count": 6
        }
      ]
    },
    {
      "cell_type": "code",
      "metadata": {
        "id": "HHhgHu0Ni6bO",
        "outputId": "4ad14688-9c4b-4b27-e7ae-0bbc129d0f07",
        "colab": {
          "base_uri": "https://localhost:8080/"
        }
      },
      "source": [
        "a, b, c = 0, -1, 5\n",
        "c%=2\n",
        "c"
      ],
      "execution_count": 7,
      "outputs": [
        {
          "output_type": "execute_result",
          "data": {
            "text/plain": [
              "1"
            ]
          },
          "metadata": {},
          "execution_count": 7
        }
      ]
    },
    {
      "cell_type": "code",
      "metadata": {
        "id": "JOnZIAEPizBr",
        "outputId": "14828ce5-60d0-4791-ccba-8c9bea0f7464",
        "colab": {
          "base_uri": "https://localhost:8080/"
        }
      },
      "source": [
        "x =5 \n",
        "y =3\n",
        "x is y"
      ],
      "execution_count": 8,
      "outputs": [
        {
          "output_type": "execute_result",
          "data": {
            "text/plain": [
              "False"
            ]
          },
          "metadata": {},
          "execution_count": 8
        }
      ]
    }
  ]
}